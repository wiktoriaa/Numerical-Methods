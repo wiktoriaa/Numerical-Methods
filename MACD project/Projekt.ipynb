{
 "cells": [
  {
   "cell_type": "markdown",
   "id": "1413bf6e-7739-4104-99ef-5dbdbf0e6860",
   "metadata": {
    "tags": []
   },
   "source": [
    "# <center>Wskaźnik giełdowy MACD</center>\n",
    "## <center>Wiktoria Lewicka 184915</center>"
   ]
  },
  {
   "cell_type": "markdown",
   "id": "8efed7a1-b661-47be-a7e6-e4cb398ae0dc",
   "metadata": {},
   "source": [
    "Celem projektu jest ocena przydatności MACD w analizie technicznej na podstawie działania algorytmu symulującego kupno i sprzedaż akcji Tesli według wskaźnika MACD."
   ]
  },
  {
   "cell_type": "markdown",
   "id": "a981622a-1e1c-480d-8702-abae39a63f9d",
   "metadata": {},
   "source": [
    "Dane użyte w projekcie zostały pobrane ze strony https://finance.yahoo.com/quote/TSLA/history?p=TSLA w dniu 28.03.2022."
   ]
  },
  {
   "cell_type": "markdown",
   "id": "1a6022bb-8df0-47d6-bbb9-d9996bc101d4",
   "metadata": {},
   "source": [
    "Import wszystkich niezbędnych modułow:\n",
    "pandas - do pobrania i przetwarzania danych z pliku .csv\n",
    "matplotlib - do rysowania wykresów"
   ]
  },
  {
   "cell_type": "code",
   "execution_count": 1,
   "id": "14a13d93-cc47-4e40-88a5-668c3cc86a09",
   "metadata": {},
   "outputs": [],
   "source": [
    "import pandas as pd\n",
    "import matplotlib.pyplot as plt"
   ]
  },
  {
   "cell_type": "markdown",
   "id": "dfea4a00-4e04-494a-9778-93a84a425059",
   "metadata": {},
   "source": [
    "Pobranie danych z pliku .csv:"
   ]
  },
  {
   "cell_type": "code",
   "execution_count": 2,
   "id": "127a5b56-9a0a-452d-a9e3-b39f89b131f7",
   "metadata": {},
   "outputs": [],
   "source": [
    "df = pd.read_csv('C:\\\\Users\\\\vip\\\\Documents\\\\MACDprojekt\\\\TSLA.csv', nrows=1000)"
   ]
  },
  {
   "cell_type": "markdown",
   "id": "f1e0d7c6-13ac-4321-8cf1-9f9a1ba0a791",
   "metadata": {},
   "source": [
    "Funkcja pomocnicza do obliczania EMA (wykładniczej średniej kroczącej), wykonująca operacje na seriach danych po N elementów.\n",
    "Wykładnicza średnia krocząca dla jednego okresu (1 serii danych) obliczana jest według następującego\n",
    "wzoru:\n",
    "$$\\mathrm{EMA}_{n}=\\frac{\\mathrm{p}_{0}+(1-\\alpha)\\mathrm{p}_{1}+(1-\\alpha)^2\\mathrm{p}_{2}+...+(1-\\alpha)^N\\mathrm{p}_{N}}{1+(1-\\alpha)+(1-\\alpha)^2+...+(1-\\alpha)^N}$$\n"
   ]
  },
  {
   "cell_type": "code",
   "execution_count": 3,
   "id": "4bf46789-dd84-4410-8fad-7e97ed90df33",
   "metadata": {},
   "outputs": [],
   "source": [
    "def ema_comp(data):\n",
    "    n = data.size\n",
    "    alfa = 2.0 / (n + 1.0)\n",
    "    meter = 0.0\n",
    "    denominator = 0.0\n",
    "\n",
    "    for index, value in data.items():\n",
    "        meter += pow((1.0 - alfa), index) * value\n",
    "        denominator += pow((1.0 - alfa), index)\n",
    "\n",
    "    return meter / denominator"
   ]
  },
  {
   "cell_type": "markdown",
   "id": "a815f98d-a593-41ff-8b18-8a10255f6786",
   "metadata": {},
   "source": [
    "Funkcja obliczająca EMA, jako argumenty przyjmuje:\n",
    "- n: okres czasu w dniach z jakiego ma być kolejno liczona średnia krocząca\n",
    "- data: seria danych, na których mają być wykonywane obliczenia"
   ]
  },
  {
   "cell_type": "code",
   "execution_count": 4,
   "id": "99a1ca46-eca8-44fa-97d1-711889a24c85",
   "metadata": {},
   "outputs": [],
   "source": [
    "def ema(n, data):\n",
    "    em = data.rolling(window=n, min_periods=n).apply(ema_comp)\n",
    "    return em;"
   ]
  },
  {
   "cell_type": "markdown",
   "id": "4752f538-374b-47a0-98eb-2161839d7306",
   "metadata": {},
   "source": [
    "Obliczenie EMA 26 i 12 okresową:"
   ]
  },
  {
   "cell_type": "code",
   "execution_count": 5,
   "id": "1263992e-2d39-4c92-9264-03dc6e90543d",
   "metadata": {},
   "outputs": [],
   "source": [
    "ema12 = ema(12, df[\"Close\"])\n",
    "ema26 = ema(26, df[\"Close\"])"
   ]
  },
  {
   "cell_type": "markdown",
   "id": "8d9944c0-8ef7-4237-a314-5831f8c93baa",
   "metadata": {},
   "source": [
    "Obliczenie MACD i Signal:"
   ]
  },
  {
   "cell_type": "code",
   "execution_count": 6,
   "id": "17e5be1a-30b8-4c8b-81bd-37f8d673b72e",
   "metadata": {},
   "outputs": [],
   "source": [
    "df[\"MACD\"] = ema12 - ema26\n",
    "df[\"Signal\"] = ema(9, df[\"MACD\"])"
   ]
  },
  {
   "cell_type": "markdown",
   "id": "f1012acb-a5cb-4397-a33d-ec92fd0b0bc7",
   "metadata": {},
   "source": [
    "Wypisanie obliczonych danych"
   ]
  },
  {
   "cell_type": "code",
   "execution_count": 7,
   "id": "efb3b9d3-16b2-4111-9168-620c36a161a3",
   "metadata": {},
   "outputs": [
    {
     "name": "stdout",
     "output_type": "stream",
     "text": [
      "           Date       Close        MACD     Signal\n",
      "0    2017-03-28   55.490002         NaN        NaN\n",
      "1    2017-03-29   55.476002         NaN        NaN\n",
      "2    2017-03-30   55.584000         NaN        NaN\n",
      "3    2017-03-31   55.660000         NaN        NaN\n",
      "4    2017-04-03   59.703999         NaN        NaN\n",
      "..          ...         ...         ...        ...\n",
      "995  2021-03-11  699.599976 -104.004313 -73.241642\n",
      "996  2021-03-12  693.729980 -109.027301 -80.021451\n",
      "997  2021-03-15  707.940002 -103.393028 -86.338608\n",
      "998  2021-03-16  676.880005  -96.390754 -92.065888\n",
      "999  2021-03-17  701.809998  -96.615347 -97.905543\n",
      "\n",
      "[1000 rows x 4 columns]\n"
     ]
    }
   ],
   "source": [
    "print(df[[\"Date\", \"Close\", \"MACD\", \"Signal\"]])"
   ]
  },
  {
   "cell_type": "markdown",
   "id": "8bd4d8a8-0ba1-4704-b184-243e50879493",
   "metadata": {},
   "source": [
    "Narysowanie wykresów Signal i MACD:"
   ]
  },
  {
   "cell_type": "code",
   "execution_count": 8,
   "id": "b052e485-8349-4ea9-acd3-6a5bcbb1c45f",
   "metadata": {},
   "outputs": [
    {
     "data": {
      "text/plain": [
       "Text(0, 0.5, 'wartość wskaźnika')"
      ]
     },
     "execution_count": 8,
     "metadata": {},
     "output_type": "execute_result"
    },
    {
     "data": {
      "image/png": "[encoded data removed]",
      "text/plain": [
       "<Figure size 432x288 with 1 Axes>"
      ]
     },
     "metadata": {
      "needs_background": "light"
     },
     "output_type": "display_data"
    }
   ],
   "source": [
    "ax = df[['MACD','Signal']].plot(title='MACD')\n",
    "ax.set_xlabel(\"dzień\")\n",
    "ax.set_ylabel(\"wartość wskaźnika\")"
   ]
  },
  {
   "cell_type": "code",
   "execution_count": 9,
   "id": "de9b55cf-8674-4e11-adad-de2c1b5b0c38",
   "metadata": {},
   "outputs": [
    {
     "data": {
      "text/plain": [
       "Text(0, 0.5, 'wartość akcji')"
      ]
     },
     "execution_count": 9,
     "metadata": {},
     "output_type": "execute_result"
    },
    {
     "data": {
      "image/png": "[encoded data removed]",
      "text/plain": [
       "<Figure size 432x288 with 1 Axes>"
      ]
     },
     "metadata": {
      "needs_background": "light"
     },
     "output_type": "display_data"
    }
   ],
   "source": [
    "ax = df['Close'].plot(title='Akcje Tesli')\n",
    "ax.set_xlabel(\"dzień\")\n",
    "ax.set_ylabel(\"wartość akcji\")"
   ]
  },
  {
   "cell_type": "markdown",
   "id": "78481a5e-3314-4ec4-a72d-2b52d7836069",
   "metadata": {},
   "source": [
    "**Wnioski na podstawie otrzymanych wykresów:** linie MACD i Signal przecinają się w okolicach maksymalnego wzrostu lub spadku wartości akcji. Oznacza to, że można wykorzystać wskaźnik MACD w celu zwiększenia przychodu z kupna i sprzedaży akcji."
   ]
  },
  {
   "cell_type": "markdown",
   "id": "3652b530-3192-4f47-b2df-f637e45874f7",
   "metadata": {},
   "source": [
    "## Algorytm kupujący i sprzedający akcje\n",
    "Poniższy algorytm kupuje n akcji, gdy MACD przecina SIGNAL od dołu i sprzedaje 2*n akcji, gdy MACD przecina SIGNAL od góry.\n",
    "Celem algorytmu jest powiększenie wirtualnego majątku."
   ]
  },
  {
   "cell_type": "markdown",
   "id": "75063374-33e3-4503-af9e-2bf2be882e52",
   "metadata": {},
   "source": [
    "Poprzez porównianie bieżących i poprzednich wartości Signal i MACD algorytm ten decyduje, czy opłaca się sprzedać albo kupić akcje:\n",
    "- jeśli nastąpi dobry moment na kupno, kupowane jest n akcji\n",
    "- jeśli jest dobry moment na sprzedaż, sprzedawane jest n*2 akcji\n",
    "- jeśli nastąpił dobry moment na sprzedaż, ale liczba akcji jest mniejsza niż n*2, sprzedawane są wszystkie posiadane akcje\n",
    "- jeśli zabraknie pieniędzy na zakup n akcji, zakup jest pomijany\n",
    "\n",
    "Pieniądze w budżecie nie tracą na wartości (w tym projekcie), dlatego algorytm wydaje mniej pieniędzy i sprzedaje więcej akcji. W ten sposób przychód nie będzie zbyt szybko rosnąć, jednak również w przypadku pomyłki algorytmu, straty nie powinny zrujnować budżetu."
   ]
  },
  {
   "cell_type": "code",
   "execution_count": 10,
   "id": "6c43073a-5617-4a14-af1d-198c6e108e48",
   "metadata": {},
   "outputs": [],
   "source": [
    "def sell_buy(budget, actions, n, df):\n",
    "    prev_mac = df.iloc[0][\"MACD\"]\n",
    "    prev_signal = df.iloc[0][\"Signal\"]\n",
    "    \n",
    "    sell_counter = 0;\n",
    "    buy_counter = 0;\n",
    "\n",
    "    print(\"Stan początkowy\")\n",
    "    print(\"Saldo: \", budget, \" wartosc akcji: \", round(actions * df.loc[0][\"Close\"]),\n",
    "          \" Razem: \", round(budget + actions * df.loc[0][\"Close\"]))\n",
    "\n",
    "    df = df.reset_index()\n",
    "    for index, row in df.iterrows():\n",
    "        if row[\"Signal\"] > row[\"MACD\"] and prev_signal < prev_mac:\n",
    "            if n * row[\"Close\"] <= budget:\n",
    "                budget -= n * row[\"Close\"]\n",
    "                actions += n\n",
    "                buy_counter += n\n",
    "\n",
    "        if row[\"Signal\"] < row[\"MACD\"] and prev_signal > prev_mac:\n",
    "            if actions >= n * 2:\n",
    "                actions -= n * 2\n",
    "                budget += n * 2 * row[\"Close\"]\n",
    "                sell_counter += n * 2\n",
    "            else:\n",
    "                budget += actions * row[\"Close\"]\n",
    "                sell_counter += actions\n",
    "                actions = 0\n",
    "\n",
    "        prev_mac = row['MACD']\n",
    "        prev_signal = row['Signal']\n",
    "\n",
    "    print(\"Stan koncowy\")\n",
    "    print(\"Saldo: \", round(budget), \" wartosc akcji: \", round(actions * df.loc[0][\"Close\"]),\n",
    "          \" Razem: \", round(budget + actions * df.iloc[-1][\"Close\"]))\n",
    "    print(\"Liczba sprzedanych akcji: \", sell_counter)\n",
    "    print(\"Liczba kupionych akcji: \", buy_counter)"
   ]
  },
  {
   "cell_type": "markdown",
   "id": "1896f8b3-6bff-4cb1-848f-39582f213de4",
   "metadata": {},
   "source": [
    "### Test 1\n",
    "#### Czy algorytm potrafi zarabiać?"
   ]
  },
  {
   "cell_type": "markdown",
   "id": "7448f204-4216-4fca-8172-85cac5015926",
   "metadata": {},
   "source": [
    "**Test algorytmu dla wartości:**\n",
    "- budżet początkowy: 1000\n",
    "- początowa liczba akcji: 0\n",
    "- liczba kupowanych akcji podczas spadku: 1\n",
    "- liczba sprzedawanych akcji podczas wzrostu: 1*2 = 2"
   ]
  },
  {
   "cell_type": "code",
   "execution_count": 11,
   "id": "0cf4ec77-b5a3-407b-84d9-33d341e190da",
   "metadata": {},
   "outputs": [
    {
     "name": "stdout",
     "output_type": "stream",
     "text": [
      "Stan początkowy\n",
      "Saldo:  1000  wartosc akcji:  0  Razem:  1000\n",
      "Stan koncowy\n",
      "Saldo:  1298  wartosc akcji:  0  Razem:  1298\n",
      "Liczba sprzedanych akcji:  36\n",
      "Liczba kupionych akcji:  36\n"
     ]
    }
   ],
   "source": [
    "sell_buy(1000, 0, 1, df)"
   ]
  },
  {
   "cell_type": "markdown",
   "id": "4d604b83-d3d0-4fce-a403-1ef7ae458aa5",
   "metadata": {},
   "source": [
    "**Test algorytmu dla wartości:**\n",
    "- budżet początkowy: 100000\n",
    "- początowa liczba akcji: 500\n",
    "- liczba kupowanych akcji podczas spadku: 50\n",
    "- liczba sprzedawanych akcji podczas wzrostu: 50*2 = 100"
   ]
  },
  {
   "cell_type": "code",
   "execution_count": 12,
   "id": "1b88e450-c69e-4c22-9c1f-aec1b43ac54d",
   "metadata": {},
   "outputs": [
    {
     "name": "stdout",
     "output_type": "stream",
     "text": [
      "Stan początkowy\n",
      "Saldo:  100000  wartosc akcji:  27745  Razem:  127745\n",
      "Stan koncowy\n",
      "Saldo:  148767  wartosc akcji:  0  Razem:  148767\n",
      "Liczba sprzedanych akcji:  2300\n",
      "Liczba kupionych akcji:  1800\n"
     ]
    }
   ],
   "source": [
    "sell_buy(100000, 500, 50, df)"
   ]
  },
  {
   "cell_type": "markdown",
   "id": "518433a9-ea79-4285-9cf7-55297df8c53b",
   "metadata": {},
   "source": [
    "**Wnioski:** <br>\n",
    "Algorytmowi udało się przynieść zysk w powyższych przypadkach, można więc stwierdzić, że algorytm potrafi zarabiać."
   ]
  },
  {
   "cell_type": "markdown",
   "id": "6190f89e-4400-4892-8105-a313e48ef86b",
   "metadata": {},
   "source": [
    "### Test 2\n",
    "#### Czy algorytm zarobi więcej kupując i sprzedając akcje, czy większy zysk przyniesie tylko trzymanie akcji bez sprzedaży i kupna?"
   ]
  },
  {
   "cell_type": "markdown",
   "id": "95211eda-2503-4be2-8539-62c6ea831b65",
   "metadata": {},
   "source": [
    "**Test algorytmu dla wartości:**\n",
    "- budżet początkowy: 0\n",
    "- początowa liczba akcji: 500\n",
    "- liczba kupowanych akcji podczas spadku: 50\n",
    "- liczba sprzedawanych akcji podczas wzrostu: 50*2 = 100"
   ]
  },
  {
   "cell_type": "code",
   "execution_count": 13,
   "id": "5e880cd6-8a6d-4456-bba0-b6775f045525",
   "metadata": {},
   "outputs": [
    {
     "name": "stdout",
     "output_type": "stream",
     "text": [
      "Stan początkowy\n",
      "Saldo:  0  wartosc akcji:  27745  Razem:  27745\n",
      "Stan koncowy\n",
      "Saldo:  48767  wartosc akcji:  0  Razem:  48767\n",
      "Liczba sprzedanych akcji:  2300\n",
      "Liczba kupionych akcji:  1800\n"
     ]
    }
   ],
   "source": [
    "sell_buy(0, 500, 50, df)"
   ]
  },
  {
   "cell_type": "markdown",
   "id": "30e2e820-a2e9-43df-a445-ac9702a0a7f0",
   "metadata": {},
   "source": [
    "**Test algorytmu dla wartości:**\n",
    "- budżet początkowy: 0\n",
    "- początowa liczba akcji: 500\n",
    "- liczba kupowanych akcji podczas spadku: 0\n",
    "- liczba sprzedawanych akcji podczas wzrostu: 0*2 = 0"
   ]
  },
  {
   "cell_type": "code",
   "execution_count": 14,
   "id": "3f10c6bc-5f32-4339-a17a-f9f236a8f3c8",
   "metadata": {},
   "outputs": [
    {
     "name": "stdout",
     "output_type": "stream",
     "text": [
      "Stan początkowy\n",
      "Saldo:  0  wartosc akcji:  27745  Razem:  27745\n",
      "Stan koncowy\n",
      "Saldo:  0  wartosc akcji:  27745  Razem:  350905\n",
      "Liczba sprzedanych akcji:  0\n",
      "Liczba kupionych akcji:  0\n"
     ]
    }
   ],
   "source": [
    "sell_buy(0, 500, 0, df)"
   ]
  },
  {
   "cell_type": "markdown",
   "id": "47cebdac-6653-4909-aa9f-62979f38f5d6",
   "metadata": {},
   "source": [
    "**Wnioski**<br>\n",
    "Większy zysk przyniósł obrót akcjami przez algorytm (aktualna wartość majątku: 48767) niż przetrzymanie akcji (aktualna wartość majątku: 350905). W obydwu przypadkach nie ma żadnych strat (wartość początkowa majątku: 27745)"
   ]
  },
  {
   "cell_type": "markdown",
   "id": "da9680f0-27e5-40b7-9d7d-ffd26ebc39ae",
   "metadata": {},
   "source": [
    "## Ogólne wnioski\n",
    "Wskaźnik MACD może być przydatny przy podejmowaniu decyzji o kupnie i sprzedaży akcji. Dzięki temu wskaźnikowi szanse na zarobek będą większe. Jest to jeden z wielu czynników, które warto wziąć pod uwagę decydując się na taki rodzaj inwestycji."
   ]
  },
  {
   "cell_type": "code",
   "execution_count": null,
   "id": "9641b87f-d886-478f-bb1b-b4028ae1af2a",
   "metadata": {},
   "outputs": [],
   "source": []
  }
 ],
 "metadata": {
  "kernelspec": {
   "display_name": "Python 3 (ipykernel)",
   "language": "python",
   "name": "python3"
  },
  "language_info": {
   "codemirror_mode": {
    "name": "ipython",
    "version": 3
   },
   "file_extension": ".py",
   "mimetype": "text/x-python",
   "name": "python",
   "nbconvert_exporter": "python",
   "pygments_lexer": "ipython3",
   "version": "3.9.7"
  }
 },
 "nbformat": 4,
 "nbformat_minor": 5
}
