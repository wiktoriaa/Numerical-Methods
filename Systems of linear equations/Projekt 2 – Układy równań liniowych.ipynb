{
 "cells": [
  {
   "cell_type": "markdown",
   "id": "231600a0",
   "metadata": {},
   "source": [
    "<h4> <center>Wiktoria Lewicka 184915, gr.2</center><h4>"
   ]
  },
  {
   "cell_type": "markdown",
   "id": "75d3337a-59d0-45f7-a63b-d2f54ede5a43",
   "metadata": {},
   "source": [
    "# **Zadanie A** \n",
    "stworzenie układu równań Ax = b"
   ]
  },
  {
   "cell_type": "markdown",
   "id": "61e1a4ad-5360-4b35-9fb0-ba56aef877d9",
   "metadata": {},
   "source": [
    "Liczby, którymi zostanie uzupełniona macierz A:"
   ]
  },
  {
   "cell_type": "code",
   "execution_count": 10,
   "id": "d3b9260e",
   "metadata": {},
   "outputs": [],
   "source": [
    "e = 9.0\n",
    "N = 915\n",
    "a1 = 5.0 + e\n",
    "a2 = -1.0\n",
    "a3 = -1.0"
   ]
  },
  {
   "cell_type": "markdown",
   "id": "38a11090-d650-400a-9b9c-a046a5e4a89e",
   "metadata": {},
   "source": [
    "Funkcja tworząca dowolną macierz zawierającą 5 diagonali:"
   ]
  },
  {
   "cell_type": "code",
   "execution_count": 51,
   "id": "4cbae83b",
   "metadata": {},
   "outputs": [],
   "source": [
    "def create_matrix(N, a1, a2, a3):\n",
    "    rows, cols = (N, N)\n",
    "    A = [[0.0 for i in range(cols)] for j in range(rows)]\n",
    "\n",
    "    for i in range(N):\n",
    "        A[i][i] = a1\n",
    "        if i + 1 < N:\n",
    "            A[i][i+1] = a2\n",
    "        if i + 2 < N:\n",
    "            A[i][i+2] = a3\n",
    "\n",
    "        if i - 1 >= 0:\n",
    "            A[i][i-1] = a2\n",
    "        if i - 2 >= 0:\n",
    "            A[i][i-2] = a3\n",
    "    return A"
   ]
  },
  {
   "cell_type": "markdown",
   "id": "c551992f-68f4-426c-9d4e-b7c9811d5e98",
   "metadata": {},
   "source": [
    "Utworzenie macierzy A:"
   ]
  },
  {
   "cell_type": "code",
   "execution_count": 12,
   "id": "4a07b6bc-a21d-42dd-be0c-9ff9e140e1f3",
   "metadata": {},
   "outputs": [],
   "source": [
    "A = create_matrix(N, a1, a2, a3)"
   ]
  },
  {
   "cell_type": "markdown",
   "id": "94e051c1-e76a-4cb9-b31c-f5c30d0024bd",
   "metadata": {},
   "source": [
    "Tworzenie wektora b:"
   ]
  },
  {
   "cell_type": "code",
   "execution_count": 13,
   "id": "8b547dd6-9c06-4224-a394-9de77db8d6bf",
   "metadata": {},
   "outputs": [],
   "source": [
    "b = [0 for i in range(N)]\n",
    "f = 4\n",
    "\n",
    "for i in range(N):\n",
    "    b[i] = math.sin(i*(f + 1))"
   ]
  },
  {
   "cell_type": "markdown",
   "id": "ade6773d-0305-4556-9a06-83ca28ae9c4c",
   "metadata": {},
   "source": [
    "# **Zadanie B**\n",
    "implementacja metod iteracyjnych rozwiązywania układów równań\n",
    "liniowych: Jacobiego i Gaussa–Seidla"
   ]
  },
  {
   "cell_type": "markdown",
   "id": "ce8750cd-c8af-4d6c-9d5a-be17bf7eddd2",
   "metadata": {},
   "source": [
    "Funkcja obliczająca normę euklidesową, wg wzoru:\n",
    "$$\\left \\| v \\right \\|=\\sqrt{\\sum_{k=1}^{N}\\left | v_{k} \\right |^{2}}$$"
   ]
  },
  {
   "cell_type": "code",
   "execution_count": 14,
   "id": "f8ecb6e0-f9e7-4b10-aad8-9f49626a20c0",
   "metadata": {},
   "outputs": [],
   "source": [
    "def get_vector_norm_euklides(v):\n",
    "    N = len(v)\n",
    "    ret = 0\n",
    "    for i in range(N):\n",
    "        ret += v[i]*v[i]\n",
    "    return math.sqrt(ret)"
   ]
  },
  {
   "cell_type": "markdown",
   "id": "fab2deba-4e10-4a8f-be31-07da5309dab3",
   "metadata": {},
   "source": [
    "Funkcja mnożąca dwie macierze i zwracająca wynikową macierz:"
   ]
  },
  {
   "cell_type": "code",
   "execution_count": 15,
   "id": "d4d88b00-efa1-4420-9d97-ccaa96f5b963",
   "metadata": {},
   "outputs": [],
   "source": [
    "def multiply_matrix(A, x):\n",
    "    N = len(x)\n",
    "    ret = [0.0 for i in range(N)]\n",
    "    \n",
    "    for i in range(N):\n",
    "        sum = 0.0\n",
    "        for j in range(N):\n",
    "            sum += A[i][j] * x[j]\n",
    "        ret[i] = sum\n",
    "    return ret"
   ]
  },
  {
   "cell_type": "markdown",
   "id": "fca86f54-b8a7-4f5f-bd49-94c0e92701bb",
   "metadata": {},
   "source": [
    "Funkcja odejmująca wektor b od wektora a i zwracająca wartość tej różnicy:"
   ]
  },
  {
   "cell_type": "code",
   "execution_count": 16,
   "id": "ba8d5455-5be5-4c83-a14b-860369147d54",
   "metadata": {},
   "outputs": [],
   "source": [
    "def substract_vectors(a, b):\n",
    "    N = len(a)\n",
    "    for i in range(N):\n",
    "        a[i] -= b[i]\n",
    "    return a"
   ]
  },
  {
   "cell_type": "markdown",
   "id": "3079c990-b78d-4e9f-8377-9878a2f4c29d",
   "metadata": {},
   "source": [
    "Funkcja obliczająca wektor residuum i zwracająca go:"
   ]
  },
  {
   "cell_type": "code",
   "execution_count": 17,
   "id": "b481f0ec-7155-404e-90c5-983e9a069e2d",
   "metadata": {},
   "outputs": [],
   "source": [
    "# Ax = b\n",
    "def get_vector_residuum(A, x, b):\n",
    "    N = len(x)\n",
    "    Ax = multiply_matrix(A, x) #wektor o rozmiarze N  \n",
    "    residuum = substract_vectors(Ax, b) # wektor o rozmiarze N\n",
    "    return residuum"
   ]
  },
  {
   "cell_type": "markdown",
   "id": "bc2bf2b7-9118-4b01-aa4d-1619f0a916e5",
   "metadata": {},
   "source": [
    "Funkcja obliczająca normę z wektora residuum wektora A:"
   ]
  },
  {
   "cell_type": "code",
   "execution_count": 54,
   "id": "4b7dd095-f252-45d7-9685-78d939cb9206",
   "metadata": {},
   "outputs": [],
   "source": [
    "def get_vector_norm(A, x, b):\n",
    "    N = len(x)\n",
    "    residuum = get_vector_residuum(A, x, b)\n",
    "    norm = get_vector_norm_euklides(residuum)\n",
    "    #print(\"norma = \" + str(norm))\n",
    "    return norm "
   ]
  },
  {
   "cell_type": "markdown",
   "id": "c9cf5206-f102-413e-9d3d-9fb30e1fa62c",
   "metadata": {},
   "source": [
    "Funkcja rozwiązująca układ równań metodą Jacobiego:"
   ]
  },
  {
   "cell_type": "code",
   "execution_count": 27,
   "id": "0289b963-0a58-4fb6-89d9-699b29063e53",
   "metadata": {},
   "outputs": [],
   "source": [
    "def solve_jacobi(A, b, epsilon):\n",
    "    N = len(b)\n",
    "    x = [0.0 for i in range(N)]  # macierz X, na wynik\n",
    "    x_prev = [1.0 for i in range(N)]  # początkowe \"wyniki\"\n",
    "\n",
    "    k = 0\n",
    "    print(\"epsilon: \" + str(epsilon))\n",
    "    start = time.time()\n",
    "    \n",
    "    while get_vector_norm(A, x, b) > epsilon:\n",
    "        for i in range(N):\n",
    "            x[i] = b[i]\n",
    "\n",
    "            for j in range(N):\n",
    "                if i != j:\n",
    "                    x[i] -= A[i][j] * x_prev[j]\n",
    "            x[i] /= A[i][i]\n",
    "\n",
    "        x_prev = x.copy()\n",
    "        k += 1\n",
    "    end = time.time()\n",
    "    print(\"czas wykonania: \" + str(end - start) + \"s\")\n",
    "    print(\"liczba iteracji: \" + str(k))    \n",
    "    return x"
   ]
  },
  {
   "cell_type": "markdown",
   "id": "58abcc14-7c89-47a1-9ba0-266024468892",
   "metadata": {},
   "source": [
    "Rozwiązanie układu równań z zadania A metodą Jacobiego:"
   ]
  },
  {
   "cell_type": "code",
   "execution_count": 19,
   "id": "b8eeb2c5-3e81-4b6d-b78c-84157e1139e3",
   "metadata": {},
   "outputs": [
    {
     "name": "stdout",
     "output_type": "stream",
     "text": [
      "epsilon: 1e-09\n",
      "norma = 21.384473416735254\n",
      "norma = 86.3625809047604\n",
      "norma = 24.64974933570051\n",
      "norma = 7.038155349261883\n",
      "norma = 2.0098149031126695\n",
      "norma = 0.5739609938612484\n",
      "norma = 0.16391885550874827\n",
      "norma = 0.046815604943892995\n",
      "norma = 0.013371013538428353\n",
      "norma = 0.0038189832404037323\n",
      "norma = 0.0010907853552703493\n",
      "norma = 0.00031155717301286034\n",
      "norma = 8.899019987928162e-05\n",
      "norma = 2.5418612357491103e-05\n",
      "norma = 7.2604931609332244e-06\n",
      "norma = 2.073884357276341e-06\n",
      "norma = 5.92388571455784e-07\n",
      "norma = 1.6921239786230125e-07\n",
      "norma = 4.833489308631727e-08\n",
      "norma = 1.3806772520399967e-08\n",
      "norma = 3.9439024778674244e-09\n",
      "norma = 1.1265814303455648e-09\n",
      "norma = 3.218113789384394e-10\n",
      "czas wykonania: 13.136632680892944s\n",
      "liczba iteracji: 22\n"
     ]
    }
   ],
   "source": [
    "jac = solve_jacobi(A, b, pow(10, -9))"
   ]
  },
  {
   "cell_type": "markdown",
   "id": "491390d9-4de2-4072-9b11-2c11d08206a9",
   "metadata": {},
   "source": [
    "Funkcja rozwiązująca układ równań metodą Gaussa-Seidla:"
   ]
  },
  {
   "cell_type": "code",
   "execution_count": 28,
   "id": "a6aa8346-11e4-490a-99d4-9591df20d8c9",
   "metadata": {},
   "outputs": [],
   "source": [
    "def solve_gauss_seidel(A, b, epsilon):\n",
    "    N = len(b)\n",
    "    x = [1.0 for i in range(N)]\n",
    "    x_prev = [1.0 for i in range(N)]\n",
    "    \n",
    "    k = 0\n",
    "    print(\"epsilon: \" + str(epsilon))\n",
    "    start = time.time()\n",
    "    \n",
    "    while get_vector_norm(A, x, b) > epsilon:\n",
    "        for i in range(N):\n",
    "            triangle_sum = 0\n",
    "\n",
    "            # macierz trójkątna górna\n",
    "            for j in range(i):\n",
    "                triangle_sum += A[i][j] * x[j]\n",
    "                \n",
    "            # macierz trójkątna dolna\n",
    "            for j in range(i + 1, N):\n",
    "                triangle_sum += A[i][j] * x_prev[j]\n",
    "\n",
    "            x[i] = (b[i] - triangle_sum) / A[i][i]\n",
    "            x_prev = x.copy()\n",
    "        k += 1\n",
    "        \n",
    "    end = time.time()\n",
    "    print(\"czas wykonania: \" + str(end - start) + \"s\")\n",
    "    print(\"liczba iteracji: \" + str(k))      \n",
    "    return x"
   ]
  },
  {
   "cell_type": "markdown",
   "id": "f33a5057-7bc4-41d4-b486-8796d2a21b35",
   "metadata": {},
   "source": [
    "Rozwiązanie układu równań z zadania A metodą Gaussa-Seidla:"
   ]
  },
  {
   "cell_type": "code",
   "execution_count": 21,
   "id": "c04ea2d0-23ff-47e2-907f-96f1297fa4c8",
   "metadata": {},
   "outputs": [
    {
     "name": "stdout",
     "output_type": "stream",
     "text": [
      "epsilon: 1e-09\n",
      "norma = 303.4769389078491\n",
      "norma = 50.436837391861395\n",
      "norma = 8.39253063017641\n",
      "norma = 1.3972768660830874\n",
      "norma = 0.23267129223825367\n",
      "norma = 0.038745834253573724\n",
      "norma = 0.006452592993771786\n",
      "norma = 0.0010746208777309182\n",
      "norma = 0.0001789680379060646\n",
      "norma = 2.9805645817500467e-05\n",
      "norma = 4.963926558255243e-06\n",
      "norma = 8.267083848596229e-07\n",
      "norma = 1.3768270359166436e-07\n",
      "norma = 2.2930183188989988e-08\n",
      "norma = 3.818881043534688e-09\n",
      "norma = 6.360110564519612e-10\n",
      "czas wykonania: 7.284369707107544s\n",
      "liczba iteracji: 15\n"
     ]
    }
   ],
   "source": [
    "gau = solve_gauss_seidel(A, b, pow(10, -9))"
   ]
  },
  {
   "cell_type": "markdown",
   "id": "35f4acc1-eed5-4e39-ac2e-edb9f2157c57",
   "metadata": {},
   "source": [
    "Porównanie czasu trwania algorytmów:\n",
    "- jacobi: ~6s\n",
    "- gauss-seidel: ~3.5s\n",
    "\n",
    "Algorytm Gaussa Seidla rozwiązał równanie szybciej od algorytmu Jacobiego o 2.5s (jest 0,42x szybszy)"
   ]
  },
  {
   "cell_type": "markdown",
   "id": "ad319397-1283-4d8b-bc1c-fd0c93242f3f",
   "metadata": {},
   "source": [
    "# **Zadanie C**\n",
    "Stworzenie układu równań dla a1 = 3, a2 = a3 = −1 i N = 915, wektor b pozostaje bez zmian"
   ]
  },
  {
   "cell_type": "markdown",
   "id": "622e3a58-b6ae-4c06-9bcf-feb49e601f89",
   "metadata": {},
   "source": [
    "Utworzenie nowego wektora A:"
   ]
  },
  {
   "cell_type": "code",
   "execution_count": 22,
   "id": "8ffe66f6-82b3-44a7-82ce-8e391467d744",
   "metadata": {},
   "outputs": [],
   "source": [
    "A = create_matrix(N, 3, -1, -1)"
   ]
  },
  {
   "cell_type": "markdown",
   "id": "dd8b03ee-b594-4969-80cd-7866ee06673c",
   "metadata": {},
   "source": [
    "Próba rozwiązania układu Ax=b metodą Jacobiego:"
   ]
  },
  {
   "cell_type": "code",
   "execution_count": 23,
   "id": "ba9ecf9f-847b-4296-bed8-5bfc100e1f0a",
   "metadata": {},
   "outputs": [
    {
     "name": "stdout",
     "output_type": "stream",
     "text": [
      "epsilon: 1e-09\n",
      "norma = 21.384473416735254\n",
      "norma = 40.945050108768896\n",
      "norma = 53.62470937500312\n",
      "norma = 71.37475372570134\n",
      "norma = 95.12425243463389\n",
      "norma = 126.79143163680094\n",
      "norma = 169.00458671200582\n"
     ]
    },
    {
     "ename": "KeyboardInterrupt",
     "evalue": "",
     "output_type": "error",
     "traceback": [
      "\u001b[1;31m---------------------------------------------------------------------------\u001b[0m",
      "\u001b[1;31mKeyboardInterrupt\u001b[0m                         Traceback (most recent call last)",
      "Input \u001b[1;32mIn [23]\u001b[0m, in \u001b[0;36m<cell line: 1>\u001b[1;34m()\u001b[0m\n\u001b[1;32m----> 1\u001b[0m jac \u001b[38;5;241m=\u001b[39m \u001b[43msolve_jacobi\u001b[49m\u001b[43m(\u001b[49m\u001b[43mA\u001b[49m\u001b[43m,\u001b[49m\u001b[43m \u001b[49m\u001b[43mb\u001b[49m\u001b[43m,\u001b[49m\u001b[43m \u001b[49m\u001b[38;5;28;43mpow\u001b[39;49m\u001b[43m(\u001b[49m\u001b[38;5;241;43m10\u001b[39;49m\u001b[43m,\u001b[49m\u001b[43m \u001b[49m\u001b[38;5;241;43m-\u001b[39;49m\u001b[38;5;241;43m9\u001b[39;49m\u001b[43m)\u001b[49m\u001b[43m)\u001b[49m\n",
      "Input \u001b[1;32mIn [18]\u001b[0m, in \u001b[0;36msolve_jacobi\u001b[1;34m(A, b, epsilon)\u001b[0m\n\u001b[0;32m     14\u001b[0m     \u001b[38;5;28;01mfor\u001b[39;00m j \u001b[38;5;129;01min\u001b[39;00m \u001b[38;5;28mrange\u001b[39m(N):\n\u001b[0;32m     15\u001b[0m         \u001b[38;5;28;01mif\u001b[39;00m i \u001b[38;5;241m!=\u001b[39m j:\n\u001b[1;32m---> 16\u001b[0m             x[i] \u001b[38;5;241m-\u001b[39m\u001b[38;5;241m=\u001b[39m \u001b[43mA\u001b[49m\u001b[43m[\u001b[49m\u001b[43mi\u001b[49m\u001b[43m]\u001b[49m[j] \u001b[38;5;241m*\u001b[39m x_prev[j]\n\u001b[0;32m     17\u001b[0m     x[i] \u001b[38;5;241m/\u001b[39m\u001b[38;5;241m=\u001b[39m A[i][i]\n\u001b[0;32m     19\u001b[0m x_prev \u001b[38;5;241m=\u001b[39m x\u001b[38;5;241m.\u001b[39mcopy()\n",
      "\u001b[1;31mKeyboardInterrupt\u001b[0m: "
     ]
    }
   ],
   "source": [
    "jac = solve_jacobi(A, b, pow(10, -9))"
   ]
  },
  {
   "cell_type": "markdown",
   "id": "128215b6-a265-45de-8945-e17d3834041c",
   "metadata": {},
   "source": [
    "Próba rozwiązania układu Ax=b metodą Gaussa-Seidla:"
   ]
  },
  {
   "cell_type": "code",
   "execution_count": 24,
   "id": "59c73838-1c2a-4784-91d4-61deebacc346",
   "metadata": {},
   "outputs": [
    {
     "name": "stdout",
     "output_type": "stream",
     "text": [
      "epsilon: 1e-09\n",
      "norma = 36.988439400530865\n",
      "norma = 60.832097892516686\n",
      "norma = 120.23202850889238\n",
      "norma = 240.0386891948221\n",
      "norma = 479.47036235297304\n",
      "norma = 957.7952778468476\n",
      "norma = 1913.3766207868346\n",
      "norma = 3822.4415357287357\n"
     ]
    },
    {
     "ename": "KeyboardInterrupt",
     "evalue": "",
     "output_type": "error",
     "traceback": [
      "\u001b[1;31m---------------------------------------------------------------------------\u001b[0m",
      "\u001b[1;31mKeyboardInterrupt\u001b[0m                         Traceback (most recent call last)",
      "Input \u001b[1;32mIn [24]\u001b[0m, in \u001b[0;36m<cell line: 1>\u001b[1;34m()\u001b[0m\n\u001b[1;32m----> 1\u001b[0m gau \u001b[38;5;241m=\u001b[39m \u001b[43msolve_gauss_seidel\u001b[49m\u001b[43m(\u001b[49m\u001b[43mA\u001b[49m\u001b[43m,\u001b[49m\u001b[43m \u001b[49m\u001b[43mb\u001b[49m\u001b[43m,\u001b[49m\u001b[43m \u001b[49m\u001b[38;5;28;43mpow\u001b[39;49m\u001b[43m(\u001b[49m\u001b[38;5;241;43m10\u001b[39;49m\u001b[43m,\u001b[49m\u001b[43m \u001b[49m\u001b[38;5;241;43m-\u001b[39;49m\u001b[38;5;241;43m9\u001b[39;49m\u001b[43m)\u001b[49m\u001b[43m)\u001b[49m\n",
      "Input \u001b[1;32mIn [20]\u001b[0m, in \u001b[0;36msolve_gauss_seidel\u001b[1;34m(A, b, epsilon)\u001b[0m\n\u001b[0;32m      7\u001b[0m \u001b[38;5;28mprint\u001b[39m(\u001b[38;5;124m\"\u001b[39m\u001b[38;5;124mepsilon: \u001b[39m\u001b[38;5;124m\"\u001b[39m \u001b[38;5;241m+\u001b[39m \u001b[38;5;28mstr\u001b[39m(epsilon))\n\u001b[0;32m      8\u001b[0m start \u001b[38;5;241m=\u001b[39m time\u001b[38;5;241m.\u001b[39mtime()\n\u001b[1;32m---> 10\u001b[0m \u001b[38;5;28;01mwhile\u001b[39;00m \u001b[43mget_vector_norm\u001b[49m\u001b[43m(\u001b[49m\u001b[43mA\u001b[49m\u001b[43m,\u001b[49m\u001b[43m \u001b[49m\u001b[43mx\u001b[49m\u001b[43m,\u001b[49m\u001b[43m \u001b[49m\u001b[43mb\u001b[49m\u001b[43m)\u001b[49m \u001b[38;5;241m>\u001b[39m epsilon:\n\u001b[0;32m     11\u001b[0m     \u001b[38;5;28;01mfor\u001b[39;00m i \u001b[38;5;129;01min\u001b[39;00m \u001b[38;5;28mrange\u001b[39m(N):\n\u001b[0;32m     12\u001b[0m         triangle_sum \u001b[38;5;241m=\u001b[39m \u001b[38;5;241m0\u001b[39m\n",
      "Input \u001b[1;32mIn [17]\u001b[0m, in \u001b[0;36mget_vector_norm\u001b[1;34m(A, x, b)\u001b[0m\n\u001b[0;32m      1\u001b[0m \u001b[38;5;28;01mdef\u001b[39;00m \u001b[38;5;21mget_vector_norm\u001b[39m(A, x, b):\n\u001b[0;32m      2\u001b[0m     N \u001b[38;5;241m=\u001b[39m \u001b[38;5;28mlen\u001b[39m(x)\n\u001b[1;32m----> 3\u001b[0m     residuum \u001b[38;5;241m=\u001b[39m \u001b[43mget_vector_residuum\u001b[49m\u001b[43m(\u001b[49m\u001b[43mA\u001b[49m\u001b[43m,\u001b[49m\u001b[43m \u001b[49m\u001b[43mx\u001b[49m\u001b[43m,\u001b[49m\u001b[43m \u001b[49m\u001b[43mb\u001b[49m\u001b[43m)\u001b[49m\n\u001b[0;32m      4\u001b[0m     norm \u001b[38;5;241m=\u001b[39m get_vector_norm_euklides(residuum)\n\u001b[0;32m      5\u001b[0m     \u001b[38;5;28mprint\u001b[39m(\u001b[38;5;124m\"\u001b[39m\u001b[38;5;124mnorma = \u001b[39m\u001b[38;5;124m\"\u001b[39m \u001b[38;5;241m+\u001b[39m \u001b[38;5;28mstr\u001b[39m(norm))\n",
      "Input \u001b[1;32mIn [16]\u001b[0m, in \u001b[0;36mget_vector_residuum\u001b[1;34m(A, x, b)\u001b[0m\n\u001b[0;32m      2\u001b[0m \u001b[38;5;28;01mdef\u001b[39;00m \u001b[38;5;21mget_vector_residuum\u001b[39m(A, x, b):\n\u001b[0;32m      3\u001b[0m     N \u001b[38;5;241m=\u001b[39m \u001b[38;5;28mlen\u001b[39m(x)\n\u001b[1;32m----> 4\u001b[0m     Ax \u001b[38;5;241m=\u001b[39m \u001b[43mmultiply_matrix\u001b[49m\u001b[43m(\u001b[49m\u001b[43mA\u001b[49m\u001b[43m,\u001b[49m\u001b[43m \u001b[49m\u001b[43mx\u001b[49m\u001b[43m)\u001b[49m \u001b[38;5;66;03m#wektor o rozmiarze N  \u001b[39;00m\n\u001b[0;32m      5\u001b[0m     residuum \u001b[38;5;241m=\u001b[39m substract_vectors(Ax, b) \u001b[38;5;66;03m# wektor o rozmiarze N\u001b[39;00m\n\u001b[0;32m      6\u001b[0m     \u001b[38;5;28;01mreturn\u001b[39;00m residuum\n",
      "Input \u001b[1;32mIn [14]\u001b[0m, in \u001b[0;36mmultiply_matrix\u001b[1;34m(A, x)\u001b[0m\n\u001b[0;32m      6\u001b[0m     \u001b[38;5;28msum\u001b[39m \u001b[38;5;241m=\u001b[39m \u001b[38;5;241m0.0\u001b[39m\n\u001b[0;32m      7\u001b[0m     \u001b[38;5;28;01mfor\u001b[39;00m j \u001b[38;5;129;01min\u001b[39;00m \u001b[38;5;28mrange\u001b[39m(N):\n\u001b[1;32m----> 8\u001b[0m         \u001b[38;5;28msum\u001b[39m \u001b[38;5;241m+\u001b[39m\u001b[38;5;241m=\u001b[39m \u001b[43mA\u001b[49m\u001b[43m[\u001b[49m\u001b[43mi\u001b[49m\u001b[43m]\u001b[49m\u001b[43m[\u001b[49m\u001b[43mj\u001b[49m\u001b[43m]\u001b[49m \u001b[38;5;241m*\u001b[39m x[j]\n\u001b[0;32m      9\u001b[0m     ret[i] \u001b[38;5;241m=\u001b[39m \u001b[38;5;28msum\u001b[39m\n\u001b[0;32m     10\u001b[0m \u001b[38;5;28;01mreturn\u001b[39;00m ret\n",
      "\u001b[1;31mKeyboardInterrupt\u001b[0m: "
     ]
    }
   ],
   "source": [
    "gau = solve_gauss_seidel(A, b, pow(10, -9))"
   ]
  },
  {
   "cell_type": "markdown",
   "id": "31374b9a-fb45-4de9-8ca5-27c9e6f3f4ca",
   "metadata": {},
   "source": [
    "**Wnioski**\n",
    "\n",
    "Wykonanie kodu zostało ręcznie przerwane, ponieważ wartości normy z residuum rosną, zamiast się zmniejszać, co oznacza, że ten algorytm nie jest w stanie rozwiązać tego układu równań. Wynika z tego, że metody iteracyjne dla tego układu równań nie zbiegają się."
   ]
  },
  {
   "cell_type": "markdown",
   "id": "22cb9264-e76d-4ffa-8671-30d1e81b4100",
   "metadata": {},
   "source": [
    "# **Zadanie D**\n",
    "Implementacja metody bezpośredniego rozwiązania układów równań liniowych: metody faktoryzacji LU"
   ]
  },
  {
   "cell_type": "code",
   "execution_count": 29,
   "id": "fe01c48e-ce89-48cf-8d04-da8d26378fdf",
   "metadata": {},
   "outputs": [],
   "source": [
    "def solve_LU_factor(A, b):\n",
    "    N = len(b)\n",
    "    x = [1.0 for i in range(N)]\n",
    "    \n",
    "    L = A.copy()\n",
    "    U = create_matrix(N, 1, 0, 0)\n",
    "    \n",
    "    start = time.time()\n",
    "    \n",
    "    # L*U*x = b\n",
    "    print(\"liczenie L i U\")\n",
    "    for i in range(N - 1):\n",
    "        for j in range(i + 1, N):\n",
    "            L[j][i] = U[j][i] / U[i][i]\n",
    "            \n",
    "            for k in range(i, N):\n",
    "                U[j][k] = U[j][k] - L[j][i] * U[i][k]\n",
    "    \n",
    "    # Ly = b, macierz trójkątna górna, podstawianie wprzód\n",
    "    print(\"trójkąt góra\")\n",
    "    y = [0.0 for i in range(N)]\n",
    "    \n",
    "    for i in range(N):\n",
    "        Ly = 0\n",
    "        for j in range(i):\n",
    "            Ly += L[i][j] * y[j]\n",
    "        y[i] = (b[i] - Ly) / L[i][i]\n",
    "        \n",
    "    # Ux = y, macierz trójkątna dolna, podstawianie wstecz\n",
    "    print(\"trójkąt dół\")\n",
    "    for i in reversed(range(0, N - 1)):\n",
    "        Ux = 0\n",
    "        for j in range(i + 1, N):\n",
    "            Ux += U[i][j] * x[j]\n",
    "        x[i] = (y[i] - Ux) / U[i][i]\n",
    "    \n",
    "    end = time.time()\n",
    "    print(\"czas wykonania: \" + str(end - start) + \"s\")\n",
    "    get_vector_norm(A, x, b)\n",
    "    return x\n",
    "    "
   ]
  },
  {
   "cell_type": "markdown",
   "id": "e34a16b2-c397-4e6a-8694-843f2ee9a0bf",
   "metadata": {},
   "source": [
    "Rozwiązania układu równań z zadania C metodą faktoryzacji LU:"
   ]
  },
  {
   "cell_type": "code",
   "execution_count": 39,
   "id": "b4167d34-1448-4c1c-b83f-45f5439ce791",
   "metadata": {},
   "outputs": [
    {
     "name": "stdout",
     "output_type": "stream",
     "text": [
      "liczenie L i U\n",
      "trójkąt góra\n",
      "trójkąt dół\n",
      "czas wykonania: 135.42630124092102s\n",
      "norma = 11.68793985798178\n"
     ]
    }
   ],
   "source": [
    "solve_LU_factor(A, b)"
   ]
  },
  {
   "cell_type": "markdown",
   "id": "587c7b68-7fad-4c75-93f7-3a8d1d6ba92f",
   "metadata": {},
   "source": [
    "# **Zadanie E**\n",
    "Stworzenie wykresów zależności czasu trwania poszczególnych algorytmów od liczby niewiadomych N = {100, 500, 1000, 2000, 3000} dla przypadku\n",
    "z punktu A"
   ]
  },
  {
   "cell_type": "markdown",
   "id": "d1cb3a55-9bd0-4003-891b-7006231b4146",
   "metadata": {},
   "source": [
    "Zmienne potrzebne do wykreślania wykresów:"
   ]
  },
  {
   "cell_type": "code",
   "execution_count": 33,
   "id": "ac1206cc-3508-47e0-8a8d-47548bc1477e",
   "metadata": {},
   "outputs": [],
   "source": [
    "it = [100, 500, 1000, 2000, 3000]\n",
    "jacobi_time =  [0.0 for i in range(5)]\n",
    "gauss_time =  [0.0 for i in range(5)]\n",
    "LU_time =  [0.0 for i in range(5)]\n",
    "\n",
    "epsilon = pow(10, -9)  "
   ]
  },
  {
   "cell_type": "markdown",
   "id": "b156a6eb-9fba-4057-8ca6-660f9d75cc71",
   "metadata": {},
   "source": [
    "Obliczenie czasów wykonania algorytmu Jacobiego dla N = {100, 500, 1000, 2000, 3000} i narysowanie wykresu:"
   ]
  },
  {
   "cell_type": "code",
   "execution_count": 34,
   "id": "5cc676de-3d69-419d-a784-f5e56dd27b67",
   "metadata": {},
   "outputs": [
    {
     "name": "stdout",
     "output_type": "stream",
     "text": [
      "0.07393026351928711\n",
      "1.6323909759521484\n",
      "9.042420148849487\n",
      "32.46504187583923\n",
      "67.48986792564392\n"
     ]
    }
   ],
   "source": [
    "i = 0\n",
    "for n in it:\n",
    "    A = create_matrix(n, a1, a2, a3)\n",
    "    b = [1.0 for i in range(n)]\n",
    "    \n",
    "    start = time.time()\n",
    "    solve_jacobi(A, b, epsilon)\n",
    "    end = time.time()\n",
    "    jacobi_time[i] = end - start\n",
    "    \n",
    "    print(jacobi_time[i])\n",
    "    \n",
    "    i += 1"
   ]
  },
  {
   "cell_type": "code",
   "execution_count": null,
   "id": "27c32dcc-4264-4f7d-82bb-e3fca83a2c4b",
   "metadata": {},
   "outputs": [
    {
     "data": {
      "image/png": "[encoded data removed]",
      "text/plain": [
       "<Figure size 720x360 with 1 Axes>"
      ]
     },
     "metadata": {
      "needs_background": "light"
     },
     "output_type": "display_data"
    }
   ],
   "source": [
    "plt.plot(it, jacobi_time, 'ro')\n",
    "plt.title('Czas trwa algorytmu Jacobiego w zależności od liczby niewiadomych')\n",
    "plt.ylabel('czas obliczeń [s]')\n",
    "plt.xlabel('liczba niewiadomych')\n",
    "plt.show()"
   ]
  },
  {
   "cell_type": "markdown",
   "id": "423dfd4b-b26d-49d9-b7db-b1f90a925ab4",
   "metadata": {},
   "source": [
    "Obliczenie czasów wykonania algorytmu Gaussa-Seidla dla N = {100, 500, 1000, 2000, 3000} i narysowanie wykresu:"
   ]
  },
  {
   "cell_type": "code",
   "execution_count": 45,
   "id": "6b1ec516-d2e3-45e7-8d63-6c5f29ae78b7",
   "metadata": {},
   "outputs": [
    {
     "name": "stdout",
     "output_type": "stream",
     "text": [
      "0.07755517959594727\n",
      "0.9151132106781006\n",
      "3.7536559104919434\n",
      "14.981579303741455\n",
      "37.84542536735535\n"
     ]
    }
   ],
   "source": [
    "i = 0\n",
    "for n in it:\n",
    "    A = create_matrix(n, a1, a2, a3)\n",
    "    b = [1.0 for i in range(n)]\n",
    "    \n",
    "    start = time.time()\n",
    "    solve_gauss_seidel(A, b, epsilon)\n",
    "    end = time.time()\n",
    "    gauss_time[i] = end - start\n",
    "    \n",
    "    print(gauss_time[i])\n",
    "    \n",
    "    i += 1"
   ]
  },
  {
   "cell_type": "code",
   "execution_count": null,
   "id": "dba0f48f-f98e-4925-9667-d1abb3421212",
   "metadata": {},
   "outputs": [
    {
     "data": {
      "image/png": "[encoded data removed]",
      "text/plain": [
       "<Figure size 720x360 with 1 Axes>"
      ]
     },
     "metadata": {
      "needs_background": "light"
     },
     "output_type": "display_data"
    }
   ],
   "source": [
    "plt.plot(it, gauss_time, 'ro')\n",
    "plt.title('Czas trwa algorytmu Gaussa-Seidla w zależności od liczby niewiadomych')\n",
    "plt.ylabel('czas obliczeń [s]')\n",
    "plt.xlabel('liczba niewiadomych')\n",
    "plt.show()"
   ]
  },
  {
   "cell_type": "markdown",
   "id": "09ae41ec-fe6a-4eba-92fb-b78856e4791d",
   "metadata": {},
   "source": [
    "Obliczenie czasów wykonania algorytmu faktoryzacji LU dla N = {100, 500, 1000, 2000, 3000} i narysowanie wykresu:"
   ]
  },
  {
   "cell_type": "code",
   "execution_count": 49,
   "id": "5f36b89b-2388-4d46-9768-f2ea13665eb5",
   "metadata": {},
   "outputs": [
    {
     "name": "stdout",
     "output_type": "stream",
     "text": [
      "0.09384298324584961\n",
      "9.375661373138428\n",
      "79.0423583984375\n",
      "641.7987179756165\n",
      "2212.045578479767\n"
     ]
    }
   ],
   "source": [
    "i = 0\n",
    "for n in it:\n",
    "    A = create_matrix(n, a1, a2, a3)\n",
    "    b = [1.0 for i in range(n)]\n",
    "    \n",
    "    start = time.time()\n",
    "    solve_LU_factor(A, b)\n",
    "    end = time.time()\n",
    "    LU_time[i] = end - start\n",
    "    \n",
    "    print(LU_time[i])\n",
    "    \n",
    "    i += 1"
   ]
  },
  {
   "cell_type": "code",
   "execution_count": null,
   "id": "3d48a288-6507-4575-86cb-f9c3eda650c2",
   "metadata": {},
   "outputs": [
    {
     "data": {
      "image/png": "[encoded data removed]",
      "text/plain": [
       "<Figure size 720x360 with 1 Axes>"
      ]
     },
     "metadata": {
      "needs_background": "light"
     },
     "output_type": "display_data"
    }
   ],
   "source": [
    "plt.plot(it, LU_time, 'ro')\n",
    "plt.title('Czas trwa algorytmu faktoryzacji LU w zależności od liczby niewiadomych')\n",
    "plt.ylabel('czas obliczeń [s]')\n",
    "plt.xlabel('liczba niewiadomych')\n",
    "plt.show()"
   ]
  },
  {
   "cell_type": "markdown",
   "id": "4b80a9bb-17e8-46af-b33b-45daacf2ed37",
   "metadata": {},
   "source": [
    "Porównanie 3 algorytmów:"
   ]
  },
  {
   "cell_type": "code",
   "execution_count": 9,
   "id": "c688047d-c065-4ce1-9e08-d105103724d3",
   "metadata": {},
   "outputs": [
    {
     "data": {
      "image/png": "[encoded data removed]",
      "text/plain": [
       "<Figure size 720x360 with 1 Axes>"
      ]
     },
     "metadata": {
      "needs_background": "light"
     },
     "output_type": "display_data"
    }
   ],
   "source": [
    "plt.plot([100, 500, 1000, 2000, 3000], [0.07393026351928711, 1.6323909759521484, 9.042420148849487, 32.46504187583923, 67.48986792564392], label='Jacobi')\n",
    "plt.plot([100, 500, 1000, 2000, 3000], [0.07755517959594727, 0.9151132106781006, 3.7536559104919434, 14.981579303741455, 37.84542536735535], label='Gauss-Seidel')\n",
    "plt.plot([100, 500, 1000, 2000, 3000], [0.09384298324584961, 9.375661373138428, 79.0423583984375, 641.7987179756165, 2212.045578479767], label='faktoryzacja LU')\n",
    "plt.legend()\n",
    "plt.ylabel('czas obliczeń [s]')\n",
    "plt.xlabel('liczba niewiadomych')\n",
    "plt.show()"
   ]
  },
  {
   "cell_type": "markdown",
   "id": "6d67a2b0-663a-4c96-9acf-ad96780db81d",
   "metadata": {},
   "source": [
    "### **Zadanie F**\n",
    "Wnioski:\n",
    "- dla małej liczby niewiadomych (100) wszystkie 3 algorytmy rozwiązują to samo równanie z podobną prędkością, mniej niż 1s\n",
    "- dla dużej liczby niewiadomych (>1000) czas wykonania wszystkich algorytmów rośnie wykładniczno. Najlepiej wypada algorytm Gaussa-Seidla (ok. 38 sekund dla 3000 niewiadomych), 176% więcej czasu od Gaussa-Seidla wykonuje się algorytm Jacobiego (ok. 67 sekund dla 3000 niewiadomych). Najdłużej rozwiązywał układ algorytm faktoryzacji LU (ok. 2212 sekund dla 3000 niewiadomych, czyli aż 582% wolniej od algorytmu Gaussa-Seidla).\n",
    "\n",
    "Podsumowanie: Najszybszą metodą na rozwiązywanie układów równań jest metoda Gaussa-Seidla."
   ]
  }
 ],
 "metadata": {
  "kernelspec": {
   "display_name": "Python 3 (ipykernel)",
   "language": "python",
   "name": "python3"
  },
  "language_info": {
   "codemirror_mode": {
    "name": "ipython",
    "version": 3
   },
   "file_extension": ".py",
   "mimetype": "text/x-python",
   "name": "python",
   "nbconvert_exporter": "python",
   "pygments_lexer": "ipython3",
   "version": "3.9.7"
  }
 },
 "nbformat": 4,
 "nbformat_minor": 5
}
